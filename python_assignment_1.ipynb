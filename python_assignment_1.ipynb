{
 "cells": [
  {
   "cell_type": "markdown",
   "id": "bfc5a26b-51a1-402c-823b-2e85f81792ad",
   "metadata": {},
   "source": [
    "### Q1: Find the second largest number in a list without using sort()"
   ]
  },
  {
   "cell_type": "code",
   "execution_count": 3,
   "id": "fa43337a-8f8e-422b-9fef-4823e660b8ff",
   "metadata": {},
   "outputs": [
    {
     "name": "stdout",
     "output_type": "stream",
     "text": [
      "Q1: Second largest in [10, 5, 8, 12, 3] is 10\n"
     ]
    }
   ],
   "source": [
    "def find_second_largest(numbers):\n",
    "    if len(numbers) < 2:\n",
    "        return \"List needs at least two elements\"\n",
    "    max1 = max2 = float('-inf')\n",
    "    for num in numbers:\n",
    "        if num > max1:\n",
    "            max2 = max1\n",
    "            max1 = num\n",
    "        elif num > max2 and num != max1:\n",
    "            max2 = num\n",
    "    return max2 if max2 != float('-inf') else \"No second largest\"\n",
    "\n",
    "def main():\n",
    "    # numbers = list(map(int, input(\"Enter numbers separated by spaces: \").split()))\n",
    "    numbers = [10, 5, 8, 12, 3]  # Fixed input for demo\n",
    "    result = find_second_largest(numbers)\n",
    "    print(\"Q1: Second largest in\", numbers, \"is\", result)\n",
    "\n",
    "if __name__ == \"__main__\":\n",
    "    main()"
   ]
  },
  {
   "cell_type": "markdown",
   "id": "2e9cac4b-d727-4060-a397-ddb1e29be6e2",
   "metadata": {},
   "source": [
    "### Q2: Remove duplicates from a list and sort without using set()"
   ]
  },
  {
   "cell_type": "code",
   "execution_count": 4,
   "id": "94046cf9-2b27-4947-8eaa-a52171845982",
   "metadata": {},
   "outputs": [
    {
     "name": "stdout",
     "output_type": "stream",
     "text": [
      "Q2: Unique sorted list from [3, 1, 4, 1, 5, 9, 2, 6, 5] is [1, 2, 3, 4, 5, 6, 9]\n"
     ]
    }
   ],
   "source": [
    "def remove_duplicates_sorted(numbers):\n",
    "    result = []\n",
    "    for num in numbers:\n",
    "        if num not in result:\n",
    "            result.append(num)\n",
    "    # Simple bubble sort\n",
    "    for i in range(len(result)):\n",
    "        for j in range(len(result) - i - 1):\n",
    "            if result[j] > result[j + 1]:\n",
    "                result[j], result[j + 1] = result[j + 1], result[j]\n",
    "    return result\n",
    "\n",
    "def main():\n",
    "    # numbers = list(map(int, input(\"Enter numbers separated by spaces: \").split()))\n",
    "    numbers = [3, 1, 4, 1, 5, 9, 2, 6, 5]\n",
    "    result = remove_duplicates_sorted(numbers)\n",
    "    print(\"Q2: Unique sorted list from\", numbers, \"is\", result)\n",
    "\n",
    "if __name__ == \"__main__\":\n",
    "    main()"
   ]
  },
  {
   "cell_type": "markdown",
   "id": "b20a99b0-ff29-4b0f-afd7-7413edb367ba",
   "metadata": {},
   "source": [
    "### Q3: Find sum and average of a list"
   ]
  },
  {
   "cell_type": "code",
   "execution_count": 5,
   "id": "5b99fc29-3177-4623-80a8-c0d42fda0f04",
   "metadata": {},
   "outputs": [
    {
     "name": "stdout",
     "output_type": "stream",
     "text": [
      "Q3: Sum of [1, 2, 3, 4, 5] is 15 and average is 3.0\n"
     ]
    }
   ],
   "source": [
    "def sum_and_average(numbers):\n",
    "    total = sum(numbers)\n",
    "    average = total / len(numbers) if numbers else 0\n",
    "    return total, average\n",
    "\n",
    "def main():\n",
    "    # numbers = list(map(int, input(\"Enter numbers separated by spaces: \").split()))\n",
    "    numbers = [1, 2, 3, 4, 5]\n",
    "    total, avg = sum_and_average(numbers)\n",
    "    print(\"Q3: Sum of\", numbers, \"is\", total, \"and average is\", avg)\n",
    "\n",
    "if __name__ == \"__main__\":\n",
    "    main()"
   ]
  },
  {
   "cell_type": "markdown",
   "id": "193c18cf-d1db-4b95-ad9a-17af79f9797b",
   "metadata": {},
   "source": [
    "### Q4: Check if a number is prime"
   ]
  },
  {
   "cell_type": "code",
   "execution_count": 7,
   "id": "9991cb16-a992-43a3-a725-de61f02dffe1",
   "metadata": {},
   "outputs": [
    {
     "name": "stdout",
     "output_type": "stream",
     "text": [
      "Q4: 17 is prime\n"
     ]
    }
   ],
   "source": [
    "def is_prime(n):\n",
    "    if n < 2:\n",
    "        return False\n",
    "    for i in range(2, int(n ** 0.5) + 1):\n",
    "        if n % i == 0:\n",
    "            return False\n",
    "    return True\n",
    "\n",
    "def main():\n",
    "    # n = int(input(\"Enter a number: \"))\n",
    "    n = 17\n",
    "    result = \"prime\" if is_prime(n) else \"not prime\"\n",
    "    print(\"Q4:\", n, \"is\", result)\n",
    "\n",
    "if __name__ == \"__main__\":\n",
    "    main()"
   ]
  },
  {
   "cell_type": "markdown",
   "id": "4fe241ad-9cbb-4a79-91bd-4252fbedba35",
   "metadata": {},
   "source": [
    "### Q5: Count vowels, consonants, digits, and special characters"
   ]
  },
  {
   "cell_type": "code",
   "execution_count": 8,
   "id": "361f7822-57f8-46e5-8fa6-0bfbf675125b",
   "metadata": {},
   "outputs": [
    {
     "name": "stdout",
     "output_type": "stream",
     "text": [
      "Q5: In 'Hello, World! 123': Vowels=3, Consonants=7, Digits=3, Special=4\n"
     ]
    }
   ],
   "source": [
    "def count_characters(s):\n",
    "    vowels = consonants = digits = special = 0\n",
    "    for char in s.lower():\n",
    "        if char in 'aeiou':\n",
    "            vowels += 1\n",
    "        elif char.isalpha():\n",
    "            consonants += 1\n",
    "        elif char.isdigit():\n",
    "            digits += 1\n",
    "        else:\n",
    "            special += 1\n",
    "    return vowels, consonants, digits, special\n",
    "\n",
    "def main():\n",
    "    # s = input(\"Enter a string: \")\n",
    "    s = \"Hello, World! 123\"\n",
    "    v, c, d, sp = count_characters(s)\n",
    "    print(f\"Q5: In '{s}': Vowels={v}, Consonants={c}, Digits={d}, Special={sp}\")\n",
    "\n",
    "if __name__ == \"__main__\":\n",
    "    main()"
   ]
  },
  {
   "cell_type": "markdown",
   "id": "742f5d27-cca3-4781-bb9a-959d6146d386",
   "metadata": {},
   "source": [
    "### Q6: Print even numbers from 1 to 100"
   ]
  },
  {
   "cell_type": "code",
   "execution_count": 9,
   "id": "15638243-2b4a-4d79-b794-702df0404313",
   "metadata": {},
   "outputs": [
    {
     "name": "stdout",
     "output_type": "stream",
     "text": [
      "Q6: Even numbers from 1 to 100: 2 4 6 8 10 12 14 16 18 20 22 24 26 28 30 32 34 36 38 40 42 44 46 48 50 52 54 56 58 60 62 64 66 68 70 72 74 76 78 80 82 84 86 88 90 92 94 96 98 100 \n"
     ]
    }
   ],
   "source": [
    "def print_evens():\n",
    "    for i in range(2, 101, 2):\n",
    "        print(i, end=\" \")\n",
    "    print()\n",
    "\n",
    "def main():\n",
    "    print(\"Q6: Even numbers from 1 to 100:\", end=\" \")\n",
    "    print_evens()\n",
    "\n",
    "if __name__ == \"__main__\":\n",
    "    main()"
   ]
  },
  {
   "cell_type": "markdown",
   "id": "b5803244-8c06-47f2-84a3-8388771ac06c",
   "metadata": {},
   "source": [
    "### Q7: Print multiplication table"
   ]
  },
  {
   "cell_type": "code",
   "execution_count": 10,
   "id": "fc4dfea0-a57a-40bd-bebd-99c132d316f0",
   "metadata": {},
   "outputs": [
    {
     "name": "stdout",
     "output_type": "stream",
     "text": [
      "Q7: Multiplication table of 5\n",
      "5 x 1 = 5\n",
      "5 x 2 = 10\n",
      "5 x 3 = 15\n",
      "5 x 4 = 20\n",
      "5 x 5 = 25\n",
      "5 x 6 = 30\n",
      "5 x 7 = 35\n",
      "5 x 8 = 40\n",
      "5 x 9 = 45\n",
      "5 x 10 = 50\n"
     ]
    }
   ],
   "source": [
    "def print_table(n):\n",
    "    for i in range(1, 11):\n",
    "        print(f\"{n} x {i} = {n * i}\")\n",
    "\n",
    "def main():\n",
    "    # n = int(input(\"Enter a number: \"))\n",
    "    n = 5\n",
    "    print(\"Q7: Multiplication table of\", n)\n",
    "    print_table(n)\n",
    "\n",
    "if __name__ == \"__main__\":\n",
    "    main()"
   ]
  },
  {
   "cell_type": "markdown",
   "id": "17fc39a1-ec03-44aa-9b84-cca3678e4a9e",
   "metadata": {},
   "source": [
    "### Q8: Numbers divisible by 3 and 5 from 1 to 100"
   ]
  },
  {
   "cell_type": "code",
   "execution_count": 11,
   "id": "463c587c-93fb-49eb-9815-2cffb5d5d3e8",
   "metadata": {},
   "outputs": [
    {
     "name": "stdout",
     "output_type": "stream",
     "text": [
      "Q8: Numbers divisible by 3 and 5: [15, 30, 45, 60, 75, 90]\n"
     ]
    }
   ],
   "source": [
    "def divisible_3_and_5():\n",
    "    result = []\n",
    "    for i in range(1, 101):\n",
    "        if i % 3 == 0 and i % 5 == 0:\n",
    "            result.append(i)\n",
    "    return result\n",
    "\n",
    "def main():\n",
    "    result = divisible_3_and_5()\n",
    "    print(\"Q8: Numbers divisible by 3 and 5:\", result)\n",
    "\n",
    "if __name__ == \"__main__\":\n",
    "    main()"
   ]
  },
  {
   "cell_type": "markdown",
   "id": "ebf340e3-0a5d-4d21-a1bb-c3011ab52f2a",
   "metadata": {},
   "source": [
    "### Q9: Reverse a number"
   ]
  },
  {
   "cell_type": "code",
   "execution_count": 12,
   "id": "b9e8db8f-603a-4732-9e5a-bb3925b14247",
   "metadata": {},
   "outputs": [
    {
     "name": "stdout",
     "output_type": "stream",
     "text": [
      "Q9: Reverse of 12345 is 54321\n"
     ]
    }
   ],
   "source": [
    "def reverse_number(n):\n",
    "    return int(str(n)[::-1])\n",
    "\n",
    "def main():\n",
    "    # n = int(input(\"Enter a number: \"))\n",
    "    n = 12345\n",
    "    result = reverse_number(n)\n",
    "    print(\"Q9: Reverse of\", n, \"is\", result)\n",
    "\n",
    "if __name__ == \"__main__\":\n",
    "    main()"
   ]
  },
  {
   "cell_type": "markdown",
   "id": "d26df482-a7e1-4005-aa6a-04af2cb477c4",
   "metadata": {},
   "source": [
    "### Q10: Count character frequency in a string"
   ]
  },
  {
   "cell_type": "code",
   "execution_count": 13,
   "id": "82a45737-6d88-45c7-b7f4-7d48e5634d52",
   "metadata": {},
   "outputs": [
    {
     "name": "stdout",
     "output_type": "stream",
     "text": [
      "Q10: Character frequency in 'hello': {'h': 1, 'e': 1, 'l': 2, 'o': 1}\n"
     ]
    }
   ],
   "source": [
    "def char_frequency(s):\n",
    "    freq = {}\n",
    "    for char in s:\n",
    "        if char in freq:\n",
    "            freq[char] += 1\n",
    "        else:\n",
    "            freq[char] = 1\n",
    "    return freq\n",
    "\n",
    "def main():\n",
    "    # s = input(\"Enter a string: \")\n",
    "    s = \"hello\"\n",
    "    result = char_frequency(s)\n",
    "    print(\"Q10: Character frequency in '{}': {}\".format(s, result))\n",
    "\n",
    "if __name__ == \"__main__\":\n",
    "    main()"
   ]
  },
  {
   "cell_type": "markdown",
   "id": "8dbe2bd3-8050-4ec8-a483-785901eb4836",
   "metadata": {},
   "source": [
    "### Q11: Generate first n prime numbers"
   ]
  },
  {
   "cell_type": "code",
   "execution_count": 14,
   "id": "2233f46f-7592-4545-b0f3-b7da96250a06",
   "metadata": {},
   "outputs": [
    {
     "name": "stdout",
     "output_type": "stream",
     "text": [
      "Q11: First 5 primes: [2, 3, 5, 7, 11]\n"
     ]
    }
   ],
   "source": [
    "def is_prime(n):\n",
    "    if n < 2:\n",
    "        return False\n",
    "    for i in range(2, int(n ** 0.5) + 1):\n",
    "        if n % i == 0:\n",
    "            return False\n",
    "    return True\n",
    "\n",
    "def first_n_primes(n):\n",
    "    primes = []\n",
    "    num = 2\n",
    "    while len(primes) < n:\n",
    "        if is_prime(num):\n",
    "            primes.append(num)\n",
    "        num += 1\n",
    "    return primes\n",
    "\n",
    "def main():\n",
    "    # n = int(input(\"Enter number of primes: \"))\n",
    "    n = 5\n",
    "    result = first_n_primes(n)\n",
    "    print(\"Q11: First\", n, \"primes:\", result)\n",
    "\n",
    "if __name__ == \"__main__\":\n",
    "    main()"
   ]
  },
  {
   "cell_type": "markdown",
   "id": "fb85085f-3574-4b6a-a88d-31a3ea449423",
   "metadata": {},
   "source": [
    "### Q12: Check if a number is palindrome"
   ]
  },
  {
   "cell_type": "code",
   "execution_count": 15,
   "id": "e0dcee91-4710-458b-a6b1-98e9a56b86b1",
   "metadata": {},
   "outputs": [
    {
     "name": "stdout",
     "output_type": "stream",
     "text": [
      "Q12: 121 is palindrome\n"
     ]
    }
   ],
   "source": [
    "def is_palindrome(n):\n",
    "    return str(n) == str(n)[::-1]\n",
    "\n",
    "def main():\n",
    "    # n = int(input(\"Enter a number: \"))\n",
    "    n = 121\n",
    "    result = \"palindrome\" if is_palindrome(n) else \"not palindrome\"\n",
    "    print(\"Q12:\", n, \"is\", result)\n",
    "\n",
    "if __name__ == \"__main__\":\n",
    "    main()"
   ]
  },
  {
   "cell_type": "markdown",
   "id": "93b8a70f-4861-4eec-97f7-1ca24d3e01da",
   "metadata": {},
   "source": [
    "### Q13: Count specific element in a list"
   ]
  },
  {
   "cell_type": "code",
   "execution_count": 16,
   "id": "14383761-1b07-4e14-b62c-bbbdff94c0df",
   "metadata": {},
   "outputs": [
    {
     "name": "stdout",
     "output_type": "stream",
     "text": [
      "Q13: Element 2 appears 3 times in [1, 2, 2, 3, 2]\n"
     ]
    }
   ],
   "source": [
    "def count_element(lst, elem):\n",
    "    count = 0\n",
    "    for item in lst:\n",
    "        if item == elem:\n",
    "            count += 1\n",
    "    return count\n",
    "\n",
    "def main():\n",
    "    # lst = list(map(int, input(\"Enter numbers separated by spaces: \").split()))\n",
    "    # elem = int(input(\"Enter element to count: \"))\n",
    "    lst = [1, 2, 2, 3, 2]\n",
    "    elem = 2\n",
    "    result = count_element(lst, elem)\n",
    "    print(\"Q13: Element\", elem, \"appears\", result, \"times in\", lst)\n",
    "\n",
    "if __name__ == \"__main__\":\n",
    "    main()"
   ]
  },
  {
   "cell_type": "markdown",
   "id": "b71fa183-8748-4f16-8a43-bb2089f9b151",
   "metadata": {},
   "source": [
    "### Q14: Squares of even numbers from 1 to 50"
   ]
  },
  {
   "cell_type": "code",
   "execution_count": 17,
   "id": "93a55268-2c22-4eca-9486-d43cc6592bd3",
   "metadata": {},
   "outputs": [
    {
     "name": "stdout",
     "output_type": "stream",
     "text": [
      "Q14: Squares of even numbers from 1 to 50: [4, 16, 36, 64, 100, 144, 196, 256, 324, 400, 484, 576, 676, 784, 900, 1024, 1156, 1296, 1444, 1600, 1764, 1936, 2116, 2304, 2500]\n"
     ]
    }
   ],
   "source": [
    "def even_squares():\n",
    "    result = []\n",
    "    for i in range(2, 51, 2):\n",
    "        result.append(i * i)\n",
    "    return result\n",
    "\n",
    "def main():\n",
    "    result = even_squares()\n",
    "    print(\"Q14: Squares of even numbers from 1 to 50:\", result)\n",
    "\n",
    "if __name__ == \"__main__\":\n",
    "    main()"
   ]
  },
  {
   "cell_type": "markdown",
   "id": "0cc2eed9-c2bc-4193-8cc0-8086b1b06257",
   "metadata": {},
   "source": [
    "### Q15: Unique elements in a list (preserve order)"
   ]
  },
  {
   "cell_type": "code",
   "execution_count": 18,
   "id": "fdbf38e8-64d2-43c6-9278-3fabac4bbf8b",
   "metadata": {},
   "outputs": [
    {
     "name": "stdout",
     "output_type": "stream",
     "text": [
      "Q15: Unique elements from [1, 2, 2, 3, 1, 4] : [1, 2, 3, 4]\n"
     ]
    }
   ],
   "source": [
    "def unique_elements(lst):\n",
    "    result = []\n",
    "    seen = []\n",
    "    for item in lst:\n",
    "        if item not in seen:\n",
    "            seen.append(item)\n",
    "            result.append(item)\n",
    "    return result\n",
    "\n",
    "def main():\n",
    "    # lst = list(map(int, input(\"Enter numbers separated by spaces: \").split()))\n",
    "    lst = [1, 2, 2, 3, 1, 4]\n",
    "    result = unique_elements(lst)\n",
    "    print(\"Q15: Unique elements from\", lst, \":\", result)\n",
    "\n",
    "if __name__ == \"__main__\":\n",
    "    main()"
   ]
  },
  {
   "cell_type": "markdown",
   "id": "30850690-38aa-4ae6-a533-22736def691f",
   "metadata": {},
   "source": [
    "### Q16: Check if a number is even or odd"
   ]
  },
  {
   "cell_type": "code",
   "execution_count": 19,
   "id": "b2456d2b-598e-49ff-8abe-48122f3e00eb",
   "metadata": {},
   "outputs": [
    {
     "name": "stdout",
     "output_type": "stream",
     "text": [
      "Q16: 4 is Even\n"
     ]
    }
   ],
   "source": [
    "def is_even_odd(n):\n",
    "    return \"Even\" if n % 2 == 0 else \"Odd\"\n",
    "\n",
    "def main():\n",
    "    # n = int(input(\"Enter a number: \"))\n",
    "    n = 4\n",
    "    result = is_even_odd(n)\n",
    "    print(\"Q16:\", n, \"is\", result)\n",
    "\n",
    "if __name__ == \"__main__\":\n",
    "    main()"
   ]
  },
  {
   "cell_type": "markdown",
   "id": "280524a8-af24-4fd7-a544-4947c1d993ca",
   "metadata": {},
   "source": [
    "### Q17: Cumulative sum of a list"
   ]
  },
  {
   "cell_type": "code",
   "execution_count": 20,
   "id": "d9b9259d-b17d-4eba-aa61-40c4af2b7972",
   "metadata": {},
   "outputs": [
    {
     "name": "stdout",
     "output_type": "stream",
     "text": [
      "Q17: Cumulative sum of [1, 2, 3, 4] is [1, 3, 6, 10]\n"
     ]
    }
   ],
   "source": [
    "def cumulative_sum(lst):\n",
    "    result = []\n",
    "    total = 0\n",
    "    for num in lst:\n",
    "        total += num\n",
    "        result.append(total)\n",
    "    return result\n",
    "\n",
    "def main():\n",
    "    # lst = list(map(int, input(\"Enter numbers separated by spaces: \").split()))\n",
    "    lst = [1, 2, 3, 4]\n",
    "    result = cumulative_sum(lst)\n",
    "    print(\"Q17: Cumulative sum of\", lst, \"is\", result)\n",
    "\n",
    "if __name__ == \"__main__\":\n",
    "    main()"
   ]
  },
  {
   "cell_type": "markdown",
   "id": "41fb9298-d325-46ba-afdf-2bfece383265",
   "metadata": {},
   "source": [
    "### Q18: Recursive factorial"
   ]
  },
  {
   "cell_type": "code",
   "execution_count": 21,
   "id": "058a1324-1573-4855-a2e2-c6282bcc6cff",
   "metadata": {},
   "outputs": [
    {
     "name": "stdout",
     "output_type": "stream",
     "text": [
      "Q18: Factorial of 5 is 120\n"
     ]
    }
   ],
   "source": [
    "def factorial(n):\n",
    "    if n == 0 or n == 1:\n",
    "        return 1\n",
    "    return n * factorial(n - 1)\n",
    "\n",
    "def main():\n",
    "    # n = int(input(\"Enter a number: \"))\n",
    "    n = 5\n",
    "    result = factorial(n)\n",
    "    print(\"Q18: Factorial of\", n, \"is\", result)\n",
    "\n",
    "if __name__ == \"__main__\":\n",
    "    main()"
   ]
  },
  {
   "cell_type": "markdown",
   "id": "2f5359a2-4679-4203-ac8d-ed42e0cacf4f",
   "metadata": {},
   "source": [
    "### Q19: Fibonacci series up to n terms"
   ]
  },
  {
   "cell_type": "code",
   "execution_count": 22,
   "id": "4f84c7c4-cbc5-481c-8b87-536061b8f05e",
   "metadata": {},
   "outputs": [
    {
     "name": "stdout",
     "output_type": "stream",
     "text": [
      "Q19: Fibonacci series for 7 terms: [0, 1, 1, 2, 3, 5, 8]\n"
     ]
    }
   ],
   "source": [
    "def fibonacci(n):\n",
    "    fib = [0, 1]\n",
    "    for i in range(2, n):\n",
    "        fib.append(fib[i-1] + fib[i-2])\n",
    "    return fib[:n]\n",
    "\n",
    "def main():\n",
    "    # n = int(input(\"Enter number of terms: \"))\n",
    "    n = 7\n",
    "    result = fibonacci(n)\n",
    "    print(\"Q19: Fibonacci series for\", n, \"terms:\", result)\n",
    "\n",
    "if __name__ == \"__main__\":\n",
    "    main()"
   ]
  },
  {
   "cell_type": "markdown",
   "id": "fd4fc407-e365-44d5-bada-815d90f58b60",
   "metadata": {},
   "source": [
    "### Q20: Check if a string is a palindrome"
   ]
  },
  {
   "cell_type": "code",
   "execution_count": 23,
   "id": "d3021e45-b795-43fc-a951-a3be5244c973",
   "metadata": {},
   "outputs": [
    {
     "name": "stdout",
     "output_type": "stream",
     "text": [
      "Q20: Racecar is palindrome\n"
     ]
    }
   ],
   "source": [
    "def is_palindrome(s):\n",
    "    s = s.lower().replace(\" \", \"\")\n",
    "    return s == s[::-1]\n",
    "\n",
    "def main():\n",
    "    # s = input(\"Enter a string: \")\n",
    "    s = \"Racecar\"\n",
    "    result = \"palindrome\" if is_palindrome(s) else \"not palindrome\"\n",
    "    print(\"Q20:\", s, \"is\", result)\n",
    "\n",
    "if __name__ == \"__main__\":\n",
    "    main()"
   ]
  },
  {
   "cell_type": "markdown",
   "id": "efc1a123-0979-4179-9bdc-502c566b6c08",
   "metadata": {},
   "source": [
    "### Q21: Find max and min in a list"
   ]
  },
  {
   "cell_type": "code",
   "execution_count": 24,
   "id": "e58c845d-6939-4c46-9de1-fef3e7e06113",
   "metadata": {},
   "outputs": [
    {
     "name": "stdout",
     "output_type": "stream",
     "text": [
      "Q21: Max and min in [4, 2, 7, 1, 9] are 9 and 1\n"
     ]
    }
   ],
   "source": [
    "def max_min(lst):\n",
    "    max_val = lst[0]\n",
    "    min_val = lst[0]\n",
    "    for num in lst:\n",
    "        if num > max_val:\n",
    "            max_val = num\n",
    "        if num < min_val:\n",
    "            min_val = num\n",
    "    return max_val, min_val\n",
    "\n",
    "def main():\n",
    "    # lst = list(map(int, input(\"Enter numbers separated by spaces: \").split()))\n",
    "    lst = [4, 2, 7, 1, 9]\n",
    "    max_val, min_val = max_min(lst)\n",
    "    print(\"Q21: Max and min in\", lst, \"are\", max_val, \"and\", min_val)\n",
    "\n",
    "if __name__ == \"__main__\":\n",
    "    main()"
   ]
  },
  {
   "cell_type": "markdown",
   "id": "2153b030-319d-427c-85b0-58a5dcd593e7",
   "metadata": {},
   "source": [
    "### Q22: Check if a string is a pangram"
   ]
  },
  {
   "cell_type": "code",
   "execution_count": 25,
   "id": "2304101f-c832-40d0-9e3c-ce822e5cdc6d",
   "metadata": {},
   "outputs": [
    {
     "name": "stdout",
     "output_type": "stream",
     "text": [
      "Q22: The quick brown fox jumps over the lazy dog is pangram\n"
     ]
    }
   ],
   "source": [
    "def is_pangram(s):\n",
    "    s = s.lower()\n",
    "    letters = []\n",
    "    for char in s:\n",
    "        if char.isalpha() and char not in letters:\n",
    "            letters.append(char)\n",
    "    return len(letters) == 26\n",
    "\n",
    "def main():\n",
    "    # s = input(\"Enter a string: \")\n",
    "    s = \"The quick brown fox jumps over the lazy dog\"\n",
    "    result = \"pangram\" if is_pangram(s) else \"not pangram\"\n",
    "    print(\"Q22:\", s, \"is\", result)\n",
    "\n",
    "if __name__ == \"__main__\":\n",
    "    main()"
   ]
  },
  {
   "cell_type": "markdown",
   "id": "1485ec96-af2f-4901-bf03-105a651ecec0",
   "metadata": {},
   "source": [
    "### Q23: Find primes in a range"
   ]
  },
  {
   "cell_type": "code",
   "execution_count": 26,
   "id": "a4ba6ffe-88f2-4601-af12-f9b3aa610c49",
   "metadata": {},
   "outputs": [
    {
     "name": "stdout",
     "output_type": "stream",
     "text": [
      "Q23: Primes in range 10 to 20 : [11, 13, 17, 19]\n"
     ]
    }
   ],
   "source": [
    "def is_prime(n):\n",
    "    if n < 2:\n",
    "        return False\n",
    "    for i in range(2, int(n ** 0.5) + 1):\n",
    "        if n % i == 0:\n",
    "            return False\n",
    "    return True\n",
    "\n",
    "def primes_in_range(start, end):\n",
    "    result = []\n",
    "    for num in range(start, end + 1):\n",
    "        if is_prime(num):\n",
    "            result.append(num)\n",
    "    return result\n",
    "\n",
    "def main():\n",
    "    # start = int(input(\"Enter start of range: \"))\n",
    "    # end = int(input(\"Enter end of range: \"))\n",
    "    start, end = 10, 20\n",
    "    result = primes_in_range(start, end)\n",
    "    print(\"Q23: Primes in range\", start, \"to\", end, \":\", result)\n",
    "\n",
    "if __name__ == \"__main__\":\n",
    "    main()"
   ]
  },
  {
   "cell_type": "markdown",
   "id": "9a515b9a-dc11-4190-8dbc-737d7b66cc7a",
   "metadata": {},
   "source": [
    "### Q24: Count uppercase and lowercase letters"
   ]
  },
  {
   "cell_type": "code",
   "execution_count": 27,
   "id": "cd1b9888-e769-4121-91d3-109e871bc20a",
   "metadata": {},
   "outputs": [
    {
     "name": "stdout",
     "output_type": "stream",
     "text": [
      "Q24: In 'Hello World': Uppercase=2, Lowercase=8\n"
     ]
    }
   ],
   "source": [
    "def count_case(s):\n",
    "    upper = 0\n",
    "    lower = 0\n",
    "    for char in s:\n",
    "        if char.isupper():\n",
    "            upper += 1\n",
    "        elif char.islower():\n",
    "            lower += 1\n",
    "    return upper, lower\n",
    "\n",
    "def main():\n",
    "    # s = input(\"Enter a string: \")\n",
    "    s = \"Hello World\"\n",
    "    upper, lower = count_case(s)\n",
    "    print(f\"Q24: In '{s}': Uppercase={upper}, Lowercase={lower}\")\n",
    "\n",
    "if __name__ == \"__main__\":\n",
    "    main()"
   ]
  },
  {
   "cell_type": "markdown",
   "id": "21c8dbf4-65ac-40a7-a1cb-b7ae7dbcd4f5",
   "metadata": {},
   "source": [
    "### Q25: Sum of digits in a number"
   ]
  },
  {
   "cell_type": "code",
   "execution_count": 28,
   "id": "b13515c9-23e5-40bc-ade6-1d9aabe672c5",
   "metadata": {},
   "outputs": [
    {
     "name": "stdout",
     "output_type": "stream",
     "text": [
      "Q25: Sum of digits in 123 is 6\n"
     ]
    }
   ],
   "source": [
    "def sum_digits(n):\n",
    "    total = 0\n",
    "    for digit in str(abs(n)):\n",
    "        total += int(digit)\n",
    "    return total\n",
    "\n",
    "def main():\n",
    "    # n = int(input(\"Enter a number: \"))\n",
    "    n = 123\n",
    "    result = sum_digits(n)\n",
    "    print(\"Q25: Sum of digits in\", n, \"is\", result)\n",
    "\n",
    "if __name__ == \"__main__\":\n",
    "    main()"
   ]
  },
  {
   "cell_type": "markdown",
   "id": "669837ad-5fab-402a-83dd-56a4d3c74a76",
   "metadata": {},
   "source": [
    "### Q26: Count words in a sentence"
   ]
  },
  {
   "cell_type": "code",
   "execution_count": 29,
   "id": "98893797-1317-4d8a-b061-bf9e9f77de77",
   "metadata": {},
   "outputs": [
    {
     "name": "stdout",
     "output_type": "stream",
     "text": [
      "Q26: Word count in 'This is a test sentence': 5\n"
     ]
    }
   ],
   "source": [
    "def count_words(s):\n",
    "    words = s.split()\n",
    "    return len(words)\n",
    "\n",
    "def main():\n",
    "    # s = input(\"Enter a sentence: \")\n",
    "    s = \"This is a test sentence\"\n",
    "    result = count_words(s)\n",
    "    print(\"Q26: Word count in '{}': {}\".format(s, result))\n",
    "\n",
    "if __name__ == \"__main__\":\n",
    "    main()"
   ]
  },
  {
   "cell_type": "markdown",
   "id": "dbcf948d-7ab4-4185-bade-756a70b12411",
   "metadata": {},
   "source": [
    "### Q27: Remove punctuation from a string"
   ]
  },
  {
   "cell_type": "code",
   "execution_count": 30,
   "id": "bd2a841e-ed13-4e35-98ed-6a240cfa3f37",
   "metadata": {},
   "outputs": [
    {
     "name": "stdout",
     "output_type": "stream",
     "text": [
      "Q27: After removing punctuation from 'Hello, World!': Hello World\n"
     ]
    }
   ],
   "source": [
    "def remove_punctuation(s):\n",
    "    result = \"\"\n",
    "    for char in s:\n",
    "        if char.isalnum() or char.isspace():\n",
    "            result += char\n",
    "    return result\n",
    "\n",
    "def main():\n",
    "    # s = input(\"Enter a string: \")\n",
    "    s = \"Hello, World!\"\n",
    "    result = remove_punctuation(s)\n",
    "    print(\"Q27: After removing punctuation from '{}': {}\".format(s, result))\n",
    "\n",
    "if __name__ == \"__main__\":\n",
    "    main()\n"
   ]
  },
  {
   "cell_type": "markdown",
   "id": "3badce59-1ad2-4165-a4d5-f5962b16391b",
   "metadata": {},
   "source": [
    "### Q28: Find GCD of two numbers"
   ]
  },
  {
   "cell_type": "code",
   "execution_count": 31,
   "id": "f9e66e26-7795-4eb7-a6d2-6c6d6eb92a24",
   "metadata": {},
   "outputs": [
    {
     "name": "stdout",
     "output_type": "stream",
     "text": [
      "Q28: GCD of 48 and 18 is 6\n"
     ]
    }
   ],
   "source": [
    "def gcd(a, b):\n",
    "    while b:\n",
    "        a, b = b, a % b\n",
    "    return a\n",
    "\n",
    "def main():\n",
    "    # a = int(input(\"Enter first number: \"))\n",
    "    # b = int(input(\"Enter second number: \"))\n",
    "    a, b = 48, 18\n",
    "    result = gcd(a, b)\n",
    "    print(\"Q28: GCD of\", a, \"and\", b, \"is\", result)\n",
    "\n",
    "if __name__ == \"__main__\":\n",
    "    main()\n"
   ]
  },
  {
   "cell_type": "markdown",
   "id": "74fb70f8-4554-4ff8-afe0-535be09e9bea",
   "metadata": {},
   "source": [
    "### Q29: Elements appearing more than once in a list"
   ]
  },
  {
   "cell_type": "code",
   "execution_count": 32,
   "id": "f9582967-94f9-403b-b4f0-57f3a1324484",
   "metadata": {},
   "outputs": [
    {
     "name": "stdout",
     "output_type": "stream",
     "text": [
      "Q29: Duplicates in [1, 2, 2, 3, 3, 4] : [2, 3]\n"
     ]
    }
   ],
   "source": [
    "def find_duplicates(lst):\n",
    "    freq = {}\n",
    "    for item in lst:\n",
    "        if item in freq:\n",
    "            freq[item] += 1\n",
    "        else:\n",
    "            freq[item] = 1\n",
    "    return [item for item in freq if freq[item] > 1]\n",
    "\n",
    "def main():\n",
    "    # lst = list(map(int, input(\"Enter numbers separated by spaces: \").split()))\n",
    "    lst = [1, 2, 2, 3, 3, 4]\n",
    "    result = find_duplicates(lst)\n",
    "    print(\"Q29: Duplicates in\", lst, \":\", result)\n",
    "\n",
    "if __name__ == \"__main__\":\n",
    "    main()"
   ]
  },
  {
   "cell_type": "code",
   "execution_count": 33,
   "id": "b10a512a-a4a8-43d6-83f2-6b1c99e231f2",
   "metadata": {},
   "outputs": [
    {
     "name": "stdout",
     "output_type": "stream",
     "text": [
      "Q30: Largest of 5 2 8 is 8\n",
      "Q31: Sorted words from 'banana apple cherry': apple banana cherry\n",
      "Q32: Concatenated dict from {'a': 1} and {'b': 2} : {'a': 1, 'b': 2}\n",
      "Q33: Vowel count per word in 'hello world': {'hello': 2, 'world': 1}\n",
      "Q34: Tuple (1, 2, 3) converted to list: [1, 2, 3]\n",
      "Q35: Whitespace removed from 'This is a test': Thisisatest\n",
      "Q36: Dictionary from keys ['a', 'b'] and values [1, 2] : {'a': 1, 'b': 2}\n",
      "Q37: Key with max value in {'a': 10, 'b': 20, 'c': 15} is b\n",
      "Q38: Word frequencies in 'the quick brown quick fox': {'the': 1, 'quick': 2, 'brown': 1, 'fox': 1}\n",
      "Q39: Key a exists in {'a': 1, 'b': 2} : True\n",
      "Q40: Vowels replaced in 'hello': h*ll*\n",
      "Q41: Contents of test.txt:\n",
      " This is a sample file.\n",
      "It has multiple lines.\n",
      "\n",
      "Q42: Word count in test.txt: 8\n",
      "Q43: File copied successfully\n",
      "Destination file contents:\n",
      " Content to copy.\n",
      "Another line.\n",
      "\n",
      "Q44: Lines with more than 50 characters:\n",
      "This is a very long line that definitely has more than fifty characters in it.\n",
      "Q45: List written to output.txt\n",
      "File contents:\n",
      " line1\n",
      "line2\n",
      "line3\n",
      "\n",
      "Q46: Result of 10 / 0 : Error: Division by zero is not allowed\n",
      "Q47: Error: Please enter a valid number\n",
      "Q48: Error: File not found\n",
      "Q49: Error: Index out of range\n",
      "Q50: This block always executes\n",
      "Q50: Number: 123\n"
     ]
    }
   ],
   "source": [
    "\n",
    "\n",
    "# Q30: Largest of three numbers\n",
    "def largest_of_three(a, b, c):\n",
    "    if a >= b and a >= c:\n",
    "        return a\n",
    "    elif b >= a and b >= c:\n",
    "        return b\n",
    "    else:\n",
    "        return c\n",
    "\n",
    "def main():\n",
    "    a, b, c = 5, 2, 8\n",
    "    result = largest_of_three(a, b, c)\n",
    "    print(\"Q30: Largest of\", a, b, c, \"is\", result)\n",
    "\n",
    "if __name__ == \"__main__\":\n",
    "    main()\n",
    "# Output: Q30: Largest of 5 2 8 is 8\n",
    "\n",
    "# Q31: Sort words in a sentence alphabetically\n",
    "def sort_words(s):\n",
    "    words = s.split()\n",
    "    words.sort()\n",
    "    return \" \".join(words)\n",
    "\n",
    "def main():\n",
    "    s = \"banana apple cherry\"\n",
    "    result = sort_words(s)\n",
    "    print(\"Q31: Sorted words from '{}': {}\".format(s, result))\n",
    "\n",
    "if __name__ == \"__main__\":\n",
    "    main()\n",
    "# Output: Q31: Sorted words from 'banana apple cherry': apple banana cherry\n",
    "\n",
    "# Q32: Concatenate two dictionaries\n",
    "def concat_dicts(d1, d2):\n",
    "    result = d1.copy()\n",
    "    for key, value in d2.items():\n",
    "        result[key] = value\n",
    "    return result\n",
    "\n",
    "def main():\n",
    "    d1 = {'a': 1}\n",
    "    d2 = {'b': 2}\n",
    "    result = concat_dicts(d1, d2)\n",
    "    print(\"Q32: Concatenated dict from\", d1, \"and\", d2, \":\", result)\n",
    "\n",
    "if __name__ == \"__main__\":\n",
    "    main()\n",
    "# Output: Q32: Concatenated dict from {'a': 1} and {'b': 2} : {'a': 1, 'b': 2}\n",
    "\n",
    "# Q33: Count vowels in each word of a sentence\n",
    "def vowels_per_word(s):\n",
    "    vowels = 'aeiouAEIOU'\n",
    "    words = s.split()\n",
    "    result = {}\n",
    "    for word in words:\n",
    "        count = 0\n",
    "        for char in word:\n",
    "            if char in vowels:\n",
    "                count += 1\n",
    "        result[word] = count\n",
    "    return result\n",
    "\n",
    "def main():\n",
    "    s = \"hello world\"\n",
    "    result = vowels_per_word(s)\n",
    "    print(\"Q33: Vowel count per word in '{}': {}\".format(s, result))\n",
    "\n",
    "if __name__ == \"__main__\":\n",
    "    main()\n",
    "# Output: Q33: Vowel count per word in 'hello world': {'hello': 2, 'world': 1}\n",
    "\n",
    "# Q34: Convert tuple to list\n",
    "def tuple_to_list(t):\n",
    "    return list(t)\n",
    "\n",
    "def main():\n",
    "    t = (1, 2, 3)\n",
    "    result = tuple_to_list(t)\n",
    "    print(\"Q34: Tuple\", t, \"converted to list:\", result)\n",
    "\n",
    "if __name__ == \"__main__\":\n",
    "    main()\n",
    "# Output: Q34: Tuple (1, 2, 3) converted to list: [1, 2, 3]\n",
    "\n",
    "# Q35: Remove whitespace from a string\n",
    "def remove_whitespace(s):\n",
    "    result = \"\"\n",
    "    for char in s:\n",
    "        if not char.isspace():\n",
    "            result += char\n",
    "    return result\n",
    "\n",
    "def main():\n",
    "    s = \"This is a test\"\n",
    "    result = remove_whitespace(s)\n",
    "    print(\"Q35: Whitespace removed from '{}': {}\".format(s, result))\n",
    "\n",
    "if __name__ == \"__main__\":\n",
    "    main()\n",
    "# Output: Q35: Whitespace removed from 'This is a test': Thisisatest\n",
    "\n",
    "# Q36: Merge two lists into a dictionary\n",
    "def lists_to_dict(keys, values):\n",
    "    result = {}\n",
    "    for i in range(min(len(keys), len(values))):\n",
    "        result[keys[i]] = values[i]\n",
    "    return result\n",
    "\n",
    "def main():\n",
    "    keys = ['a', 'b']\n",
    "    values = [1, 2]\n",
    "    result = lists_to_dict(keys, values)\n",
    "    print(\"Q36: Dictionary from keys\", keys, \"and values\", values, \":\", result)\n",
    "\n",
    "if __name__ == \"__main__\":\n",
    "    main()\n",
    "# Output: Q36: Dictionary from keys ['a', 'b'] and values [1, 2] : {'a': 1, 'b': 2}\n",
    "\n",
    "# Q37: Get key with maximum value in a dictionary\n",
    "def max_value_key(d):\n",
    "    max_key = None\n",
    "    max_val = float('-inf')\n",
    "    for key, val in d.items():\n",
    "        if val > max_val:\n",
    "            max_val = val\n",
    "            max_key = key\n",
    "    return max_key\n",
    "\n",
    "def main():\n",
    "    d = {'a': 10, 'b': 20, 'c': 15}\n",
    "    result = max_value_key(d)\n",
    "    print(\"Q37: Key with max value in\", d, \"is\", result)\n",
    "\n",
    "if __name__ == \"__main__\":\n",
    "    main()\n",
    "# Output: Q37: Key with max value in {'a': 10, 'b': 20, 'c': 15} is b\n",
    "\n",
    "# Q38: Word frequencies in a string\n",
    "def word_frequencies(s):\n",
    "    words = s.split()\n",
    "    freq = {}\n",
    "    for word in words:\n",
    "        if word in freq:\n",
    "            freq[word] += 1\n",
    "        else:\n",
    "            freq[word] = 1\n",
    "    return freq\n",
    "\n",
    "def main():\n",
    "    # s = input(\"Enter a sentence: \")\n",
    "    s = \"the quick brown quick fox\"\n",
    "    result = word_frequencies(s)\n",
    "    print(\"Q38: Word frequencies in '{}': {}\".format(s, result))\n",
    "\n",
    "if __name__ == \"__main__\":\n",
    "    main()\n",
    "# Output: Q38: Word frequencies in 'the quick brown quick fox': {'the': 1, 'quick': 2, 'brown': 1, 'fox': 1}\n",
    "\n",
    "# Q39: Check if a key exists in a dictionary\n",
    "def key_exists(d, key):\n",
    "    return key in d\n",
    "\n",
    "def main():\n",
    "    d = {'a': 1, 'b': 2}\n",
    "    key = 'a'\n",
    "    result = key_exists(d, key)\n",
    "    print(\"Q39: Key\", key, \"exists in\", d, \":\", result)\n",
    "\n",
    "if __name__ == \"__main__\":\n",
    "    main()\n",
    "# Output: Q39: Key a exists in {'a': 1, 'b': 2} : True\n",
    "\n",
    "# Q40: Replace vowels in a string with '*'\n",
    "def replace_vowels(s):\n",
    "    vowels = 'aeiouAEIOU'\n",
    "    result = \"\"\n",
    "    for char in s:\n",
    "        if char in vowels:\n",
    "            result += '*'\n",
    "        else:\n",
    "            result += char\n",
    "    return result\n",
    "\n",
    "def main():\n",
    "    s = \"hello\"\n",
    "    result = replace_vowels(s)\n",
    "    print(\"Q40: Vowels replaced in '{}': {}\".format(s, result))\n",
    "\n",
    "if __name__ == \"__main__\":\n",
    "    main()\n",
    "# Output: Q40: Vowels replaced in 'hello': h*ll*\n",
    "\n",
    "# Q41: Read and display file contents\n",
    "def read_file(filename):\n",
    "    try:\n",
    "        with open(filename, \"r\") as f:\n",
    "            return f.read()\n",
    "    except FileNotFoundError:\n",
    "        return \"File not found\"\n",
    "\n",
    "def main():\n",
    "    with open(\"test.txt\", \"w\") as f:\n",
    "        f.write(\"This is a sample file.\\nIt has multiple lines.\\n\")\n",
    "    result = read_file(\"test.txt\")\n",
    "    print(\"Q41: Contents of test.txt:\\n\", result)\n",
    "\n",
    "if __name__ == \"__main__\":\n",
    "    main()\n",
    "# Output:\n",
    "# Q41: Contents of test.txt:\n",
    "# This is a sample file.\n",
    "# It has multiple lines.\n",
    "\n",
    "# Q42: Count words in a file\n",
    "def count_words_in_file(filename):\n",
    "    try:\n",
    "        with open(filename, \"r\") as f:\n",
    "            return len(f.read().split())\n",
    "    except FileNotFoundError:\n",
    "        return \"File not found\"\n",
    "\n",
    "def main():\n",
    "    # Create sample file\n",
    "    with open(\"test.txt\", \"w\") as f:\n",
    "        f.write(\"This is a sample file with some words.\")\n",
    "    result = count_words_in_file(\"test.txt\")\n",
    "    print(\"Q42: Word count in test.txt:\", result)\n",
    "\n",
    "if __name__ == \"__main__\":\n",
    "    main()\n",
    "# Output: Q42: Word count in test.txt: 7\n",
    "\n",
    "# Q43: Copy contents of one file to another\n",
    "def copy_file(source, destination):\n",
    "    try:\n",
    "        with open(source, \"r\") as src, open(destination, \"w\") as dst:\n",
    "            dst.write(src.read())\n",
    "        return \"File copied successfully\"\n",
    "    except FileNotFoundError:\n",
    "        return \"Source file not found\"\n",
    "\n",
    "def main():\n",
    "    with open(\"source.txt\", \"w\") as f:\n",
    "        f.write(\"Content to copy.\\nAnother line.\\n\")\n",
    "    result = copy_file(\"source.txt\", \"destination.txt\")\n",
    "    print(\"Q43:\", result)\n",
    "    with open(\"destination.txt\", \"r\") as f:\n",
    "        print(\"Destination file contents:\\n\", f.read())\n",
    "\n",
    "if __name__ == \"__main__\":\n",
    "    main()\n",
    "# Output:\n",
    "# Q43: File copied successfully\n",
    "# Destination file contents:\n",
    "# Content to copy.\n",
    "# Another line.\n",
    "\n",
    "# Q44: Print lines with more than 50 characters\n",
    "def long_lines(filename):\n",
    "    try:\n",
    "        with open(filename, \"r\") as f:\n",
    "            for line in f:\n",
    "                if len(line.strip()) > 50:\n",
    "                    print(line.strip())\n",
    "    except FileNotFoundError:\n",
    "        print(\"File not found\")\n",
    "\n",
    "def main():\n",
    "    # Create sample file\n",
    "    with open(\"long_lines.txt\", \"w\") as f:\n",
    "        f.write(\"Short line.\\n\")\n",
    "        f.write(\"This is a very long line that definitely has more than fifty characters in it.\\n\")\n",
    "        f.write(\"Another short line.\\n\")\n",
    "    print(\"Q44: Lines with more than 50 characters:\")\n",
    "    long_lines(\"long_lines.txt\")\n",
    "\n",
    "if __name__ == \"__main__\":\n",
    "    main()\n",
    "# Output:\n",
    "# Q44: Lines with more than 50 characters:\n",
    "# This is a very long line that definitely has more than fifty characters in it.\n",
    "\n",
    "# Q45: Write a list of strings to a file\n",
    "def write_list_to_file(lst, filename):\n",
    "    with open(filename, \"w\") as f:\n",
    "        for item in lst:\n",
    "            f.write(str(item) + '\\n')\n",
    "\n",
    "def main():\n",
    "    lst = [\"line1\", \"line2\", \"line3\"]\n",
    "    write_list_to_file(lst, \"output.txt\")\n",
    "    print(\"Q45: List written to output.txt\")\n",
    "    with open(\"output.txt\", \"r\") as f:\n",
    "        print(\"File contents:\\n\", f.read())\n",
    "\n",
    "if __name__ == \"__main__\":\n",
    "    main()\n",
    "# Output:\n",
    "# Q45: List written to output.txt\n",
    "\n",
    "# Q46: Handle division by zero\n",
    "def divide(a, b):\n",
    "    try:\n",
    "        result = a / b\n",
    "        return result\n",
    "    except ZeroDivisionError:\n",
    "        return \"Error: Division by zero is not allowed\"\n",
    "\n",
    "def main():\n",
    "    a, b = 10, 0\n",
    "    result = divide(a, b)\n",
    "    print(\"Q46: Result of\", a, \"/\", b, \":\", result)\n",
    "\n",
    "if __name__ == \"__main__\":\n",
    "    main()\n",
    "# Output: Q46: Result of 10 / 0 : Error: Division by zero is not allowed\n",
    "\n",
    "# Q47: Handle invalid user input\n",
    "def get_number():\n",
    "    try:\n",
    "        num = float(\"invalid\")  # Simulate invalid input\n",
    "        return f\"You entered: {num}\"\n",
    "    except ValueError:\n",
    "        return \"Error: Please enter a valid number\"\n",
    "\n",
    "def main():\n",
    "    result = get_number()\n",
    "    print(\"Q47:\", result)\n",
    "\n",
    "if __name__ == \"__main__\":\n",
    "    main()\n",
    "# Output: Q47: Error: Please enter a valid number\n",
    "\n",
    "# Q48: Handle FileNotFoundError\n",
    "def open_file(filename):\n",
    "    try:\n",
    "        with open(filename, \"r\") as f:\n",
    "            return f.read()\n",
    "    except FileNotFoundError:\n",
    "        return \"Error: File not found\"\n",
    "\n",
    "def main():\n",
    "    filename = \"nonexistent.txt\"\n",
    "    result = open_file(filename)\n",
    "    print(\"Q48:\", result)\n",
    "\n",
    "if __name__ == \"__main__\":\n",
    "    main()\n",
    "# Output: Q48: Error: File not found\n",
    "\n",
    "# Q49: Handle invalid index access\n",
    "def access_index(lst, index):\n",
    "    try:\n",
    "        return f\"Element: {lst[index]}\"\n",
    "    except IndexError:\n",
    "        return \"Error: Index out of range\"\n",
    "\n",
    "def main():\n",
    "    lst = [1, 2, 3]\n",
    "    index = 5\n",
    "    result = access_index(lst, index)\n",
    "    print(\"Q49:\", result)\n",
    "\n",
    "if __name__ == \"__main__\":\n",
    "    main()\n",
    "# Output: Q49: Error: Index out of range\n",
    "\n",
    "# Q50: Demonstrate try-except-finally\n",
    "def process_number():\n",
    "    try:\n",
    "        # num = int(input(\"Enter a number: \"))\n",
    "        num = int(\"123\")\n",
    "        return f\"Number: {num}\"\n",
    "    except ValueError:\n",
    "        return \"Error: Invalid input\"\n",
    "    finally:\n",
    "        print(\"Q50: This block always executes\")\n",
    "\n",
    "def main():\n",
    "    result = process_number()\n",
    "    print(\"Q50:\", result)\n",
    "\n",
    "if __name__ == \"__main__\":\n",
    "    main()"
   ]
  }
 ],
 "metadata": {
  "kernelspec": {
   "display_name": "Python [conda env:base] *",
   "language": "python",
   "name": "conda-base-py"
  },
  "language_info": {
   "codemirror_mode": {
    "name": "ipython",
    "version": 3
   },
   "file_extension": ".py",
   "mimetype": "text/x-python",
   "name": "python",
   "nbconvert_exporter": "python",
   "pygments_lexer": "ipython3",
   "version": "3.12.7"
  }
 },
 "nbformat": 4,
 "nbformat_minor": 5
}
